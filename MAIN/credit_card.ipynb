{
  "metadata": {
    "kernelspec": {
      "display_name": "Python 3",
      "name": "python3"
    },
    "language_info": {
      "name": "python",
      "version": "3.10.12",
      "mimetype": "text/x-python",
      "codemirror_mode": {
        "name": "ipython",
        "version": 3
      },
      "pygments_lexer": "ipython3",
      "nbconvert_exporter": "python",
      "file_extension": ".py"
    },
    "kaggle": {
      "accelerator": "none",
      "dataSources": [
        {
          "sourceId": 1399887,
          "sourceType": "datasetVersion",
          "datasetId": 817870
        }
      ],
      "dockerImageVersionId": 30635,
      "isInternetEnabled": false,
      "language": "python",
      "sourceType": "notebook",
      "isGpuEnabled": false
    },
    "colab": {
      "provenance": [],
      "include_colab_link": true
    }
  },
  "nbformat_minor": 0,
  "nbformat": 4,
  "cells": [
    {
      "cell_type": "markdown",
      "metadata": {
        "id": "view-in-github",
        "colab_type": "text"
      },
      "source": [
        "<a href=\"https://colab.research.google.com/github/rkhushii/Codsoft-ML-task-2/blob/main/MAIN/credit_card.ipynb\" target=\"_parent\"><img src=\"https://colab.research.google.com/assets/colab-badge.svg\" alt=\"Open In Colab\"/></a>"
      ]
    },
    {
      "cell_type": "code",
      "source": [
        "import pandas as pd\n",
        "import numpy as np\n",
        "from sklearn.model_selection import train_test_split\n",
        "from sklearn.tree import DecisionTreeClassifier\n",
        "from sklearn.metrics import accuracy_score, classification_report\n",
        "from sklearn.tree import plot_tree\n",
        "import matplotlib.pyplot as plt"
      ],
      "metadata": {
        "execution": {
          "iopub.status.busy": "2024-01-14T13:31:20.721954Z",
          "iopub.execute_input": "2024-01-14T13:31:20.722625Z",
          "iopub.status.idle": "2024-01-14T13:31:23.108138Z",
          "shell.execute_reply.started": "2024-01-14T13:31:20.722581Z",
          "shell.execute_reply": "2024-01-14T13:31:23.107095Z"
        },
        "trusted": true,
        "id": "lvOei0neZsXV"
      },
      "execution_count": 1,
      "outputs": []
    },
    {
      "cell_type": "code",
      "source": [
        "import os\n",
        "import google.colab.drive as drive\n",
        "drive.mount('/content/drive',force_remount=True)\n",
        "\n",
        "# List all of the files in your Drive.\n",
        "files = os.listdir('/content/drive/My Drive/archive')\n",
        "\n",
        "# Create a path to the file you want to load.\n",
        "path = os.path.join('/content/drive/My Drive/archive', 'fraudTrain.csv')\n",
        "pathh = os.path.join('/content/drive/My Drive/archive', 'fraudTest.csv')\n",
        "\n",
        "# Load the file into a DataFrame.\n",
        "data = pd.read_csv(path,encoding='ISO-8859-1')"
      ],
      "metadata": {
        "id": "e2UMIxCyaKwK",
        "colab": {
          "base_uri": "https://localhost:8080/",
          "height": 390
        },
        "outputId": "256ae96a-5a23-49d8-bb77-04e551d57a10"
      },
      "execution_count": 2,
      "outputs": [
        {
          "output_type": "error",
          "ename": "KeyboardInterrupt",
          "evalue": "",
          "traceback": [
            "\u001b[0;31m---------------------------------------------------------------------------\u001b[0m",
            "\u001b[0;31mKeyboardInterrupt\u001b[0m                         Traceback (most recent call last)",
            "\u001b[0;32m<ipython-input-2-19a1abbca052>\u001b[0m in \u001b[0;36m<cell line: 3>\u001b[0;34m()\u001b[0m\n\u001b[1;32m      1\u001b[0m \u001b[0;32mimport\u001b[0m \u001b[0mos\u001b[0m\u001b[0;34m\u001b[0m\u001b[0;34m\u001b[0m\u001b[0m\n\u001b[1;32m      2\u001b[0m \u001b[0;32mimport\u001b[0m \u001b[0mgoogle\u001b[0m\u001b[0;34m.\u001b[0m\u001b[0mcolab\u001b[0m\u001b[0;34m.\u001b[0m\u001b[0mdrive\u001b[0m \u001b[0;32mas\u001b[0m \u001b[0mdrive\u001b[0m\u001b[0;34m\u001b[0m\u001b[0;34m\u001b[0m\u001b[0m\n\u001b[0;32m----> 3\u001b[0;31m \u001b[0mdrive\u001b[0m\u001b[0;34m.\u001b[0m\u001b[0mmount\u001b[0m\u001b[0;34m(\u001b[0m\u001b[0;34m'/content/drive'\u001b[0m\u001b[0;34m,\u001b[0m\u001b[0mforce_remount\u001b[0m\u001b[0;34m=\u001b[0m\u001b[0;32mTrue\u001b[0m\u001b[0;34m)\u001b[0m\u001b[0;34m\u001b[0m\u001b[0;34m\u001b[0m\u001b[0m\n\u001b[0m\u001b[1;32m      4\u001b[0m \u001b[0;34m\u001b[0m\u001b[0m\n\u001b[1;32m      5\u001b[0m \u001b[0;31m# List all of the files in your Drive.\u001b[0m\u001b[0;34m\u001b[0m\u001b[0;34m\u001b[0m\u001b[0m\n",
            "\u001b[0;32m/usr/local/lib/python3.10/dist-packages/google/colab/drive.py\u001b[0m in \u001b[0;36mmount\u001b[0;34m(mountpoint, force_remount, timeout_ms, readonly)\u001b[0m\n\u001b[1;32m     98\u001b[0m \u001b[0;32mdef\u001b[0m \u001b[0mmount\u001b[0m\u001b[0;34m(\u001b[0m\u001b[0mmountpoint\u001b[0m\u001b[0;34m,\u001b[0m \u001b[0mforce_remount\u001b[0m\u001b[0;34m=\u001b[0m\u001b[0;32mFalse\u001b[0m\u001b[0;34m,\u001b[0m \u001b[0mtimeout_ms\u001b[0m\u001b[0;34m=\u001b[0m\u001b[0;36m120000\u001b[0m\u001b[0;34m,\u001b[0m \u001b[0mreadonly\u001b[0m\u001b[0;34m=\u001b[0m\u001b[0;32mFalse\u001b[0m\u001b[0;34m)\u001b[0m\u001b[0;34m:\u001b[0m\u001b[0;34m\u001b[0m\u001b[0;34m\u001b[0m\u001b[0m\n\u001b[1;32m     99\u001b[0m   \u001b[0;34m\"\"\"Mount your Google Drive at the specified mountpoint path.\"\"\"\u001b[0m\u001b[0;34m\u001b[0m\u001b[0;34m\u001b[0m\u001b[0m\n\u001b[0;32m--> 100\u001b[0;31m   return _mount(\n\u001b[0m\u001b[1;32m    101\u001b[0m       \u001b[0mmountpoint\u001b[0m\u001b[0;34m,\u001b[0m\u001b[0;34m\u001b[0m\u001b[0;34m\u001b[0m\u001b[0m\n\u001b[1;32m    102\u001b[0m       \u001b[0mforce_remount\u001b[0m\u001b[0;34m=\u001b[0m\u001b[0mforce_remount\u001b[0m\u001b[0;34m,\u001b[0m\u001b[0;34m\u001b[0m\u001b[0;34m\u001b[0m\u001b[0m\n",
            "\u001b[0;32m/usr/local/lib/python3.10/dist-packages/google/colab/drive.py\u001b[0m in \u001b[0;36m_mount\u001b[0;34m(mountpoint, force_remount, timeout_ms, ephemeral, readonly)\u001b[0m\n\u001b[1;32m    254\u001b[0m \u001b[0;34m\u001b[0m\u001b[0m\n\u001b[1;32m    255\u001b[0m   \u001b[0;32mwhile\u001b[0m \u001b[0;32mTrue\u001b[0m\u001b[0;34m:\u001b[0m\u001b[0;34m\u001b[0m\u001b[0;34m\u001b[0m\u001b[0m\n\u001b[0;32m--> 256\u001b[0;31m     case = d.expect([\n\u001b[0m\u001b[1;32m    257\u001b[0m         \u001b[0msuccess\u001b[0m\u001b[0;34m,\u001b[0m\u001b[0;34m\u001b[0m\u001b[0;34m\u001b[0m\u001b[0m\n\u001b[1;32m    258\u001b[0m         \u001b[0mprompt\u001b[0m\u001b[0;34m,\u001b[0m\u001b[0;34m\u001b[0m\u001b[0;34m\u001b[0m\u001b[0m\n",
            "\u001b[0;32m/usr/local/lib/python3.10/dist-packages/pexpect/spawnbase.py\u001b[0m in \u001b[0;36mexpect\u001b[0;34m(self, pattern, timeout, searchwindowsize, async_, **kw)\u001b[0m\n\u001b[1;32m    352\u001b[0m \u001b[0;34m\u001b[0m\u001b[0m\n\u001b[1;32m    353\u001b[0m         \u001b[0mcompiled_pattern_list\u001b[0m \u001b[0;34m=\u001b[0m \u001b[0mself\u001b[0m\u001b[0;34m.\u001b[0m\u001b[0mcompile_pattern_list\u001b[0m\u001b[0;34m(\u001b[0m\u001b[0mpattern\u001b[0m\u001b[0;34m)\u001b[0m\u001b[0;34m\u001b[0m\u001b[0;34m\u001b[0m\u001b[0m\n\u001b[0;32m--> 354\u001b[0;31m         return self.expect_list(compiled_pattern_list,\n\u001b[0m\u001b[1;32m    355\u001b[0m                 timeout, searchwindowsize, async_)\n\u001b[1;32m    356\u001b[0m \u001b[0;34m\u001b[0m\u001b[0m\n",
            "\u001b[0;32m/usr/local/lib/python3.10/dist-packages/pexpect/spawnbase.py\u001b[0m in \u001b[0;36mexpect_list\u001b[0;34m(self, pattern_list, timeout, searchwindowsize, async_, **kw)\u001b[0m\n\u001b[1;32m    381\u001b[0m             \u001b[0;32mreturn\u001b[0m \u001b[0mexpect_async\u001b[0m\u001b[0;34m(\u001b[0m\u001b[0mexp\u001b[0m\u001b[0;34m,\u001b[0m \u001b[0mtimeout\u001b[0m\u001b[0;34m)\u001b[0m\u001b[0;34m\u001b[0m\u001b[0;34m\u001b[0m\u001b[0m\n\u001b[1;32m    382\u001b[0m         \u001b[0;32melse\u001b[0m\u001b[0;34m:\u001b[0m\u001b[0;34m\u001b[0m\u001b[0;34m\u001b[0m\u001b[0m\n\u001b[0;32m--> 383\u001b[0;31m             \u001b[0;32mreturn\u001b[0m \u001b[0mexp\u001b[0m\u001b[0;34m.\u001b[0m\u001b[0mexpect_loop\u001b[0m\u001b[0;34m(\u001b[0m\u001b[0mtimeout\u001b[0m\u001b[0;34m)\u001b[0m\u001b[0;34m\u001b[0m\u001b[0;34m\u001b[0m\u001b[0m\n\u001b[0m\u001b[1;32m    384\u001b[0m \u001b[0;34m\u001b[0m\u001b[0m\n\u001b[1;32m    385\u001b[0m     def expect_exact(self, pattern_list, timeout=-1, searchwindowsize=-1,\n",
            "\u001b[0;32m/usr/local/lib/python3.10/dist-packages/pexpect/expect.py\u001b[0m in \u001b[0;36mexpect_loop\u001b[0;34m(self, timeout)\u001b[0m\n\u001b[1;32m    169\u001b[0m                 \u001b[0mincoming\u001b[0m \u001b[0;34m=\u001b[0m \u001b[0mspawn\u001b[0m\u001b[0;34m.\u001b[0m\u001b[0mread_nonblocking\u001b[0m\u001b[0;34m(\u001b[0m\u001b[0mspawn\u001b[0m\u001b[0;34m.\u001b[0m\u001b[0mmaxread\u001b[0m\u001b[0;34m,\u001b[0m \u001b[0mtimeout\u001b[0m\u001b[0;34m)\u001b[0m\u001b[0;34m\u001b[0m\u001b[0;34m\u001b[0m\u001b[0m\n\u001b[1;32m    170\u001b[0m                 \u001b[0;32mif\u001b[0m \u001b[0mself\u001b[0m\u001b[0;34m.\u001b[0m\u001b[0mspawn\u001b[0m\u001b[0;34m.\u001b[0m\u001b[0mdelayafterread\u001b[0m \u001b[0;32mis\u001b[0m \u001b[0;32mnot\u001b[0m \u001b[0;32mNone\u001b[0m\u001b[0;34m:\u001b[0m\u001b[0;34m\u001b[0m\u001b[0;34m\u001b[0m\u001b[0m\n\u001b[0;32m--> 171\u001b[0;31m                     \u001b[0mtime\u001b[0m\u001b[0;34m.\u001b[0m\u001b[0msleep\u001b[0m\u001b[0;34m(\u001b[0m\u001b[0mself\u001b[0m\u001b[0;34m.\u001b[0m\u001b[0mspawn\u001b[0m\u001b[0;34m.\u001b[0m\u001b[0mdelayafterread\u001b[0m\u001b[0;34m)\u001b[0m\u001b[0;34m\u001b[0m\u001b[0;34m\u001b[0m\u001b[0m\n\u001b[0m\u001b[1;32m    172\u001b[0m                 \u001b[0midx\u001b[0m \u001b[0;34m=\u001b[0m \u001b[0mself\u001b[0m\u001b[0;34m.\u001b[0m\u001b[0mnew_data\u001b[0m\u001b[0;34m(\u001b[0m\u001b[0mincoming\u001b[0m\u001b[0;34m)\u001b[0m\u001b[0;34m\u001b[0m\u001b[0;34m\u001b[0m\u001b[0m\n\u001b[1;32m    173\u001b[0m                 \u001b[0;31m# Keep reading until exception or return.\u001b[0m\u001b[0;34m\u001b[0m\u001b[0;34m\u001b[0m\u001b[0m\n",
            "\u001b[0;31mKeyboardInterrupt\u001b[0m: "
          ]
        }
      ]
    },
    {
      "cell_type": "code",
      "source": [
        "data"
      ],
      "metadata": {
        "execution": {
          "iopub.status.busy": "2024-01-14T13:32:04.778644Z",
          "iopub.execute_input": "2024-01-14T13:32:04.779156Z",
          "iopub.status.idle": "2024-01-14T13:32:05.341489Z",
          "shell.execute_reply.started": "2024-01-14T13:32:04.779118Z",
          "shell.execute_reply": "2024-01-14T13:32:05.340025Z"
        },
        "trusted": true,
        "id": "yr-9FS1BZsXW"
      },
      "execution_count": null,
      "outputs": []
    },
    {
      "cell_type": "code",
      "source": [
        "data.head()"
      ],
      "metadata": {
        "execution": {
          "iopub.status.busy": "2024-01-14T13:32:15.20548Z",
          "iopub.execute_input": "2024-01-14T13:32:15.205983Z",
          "iopub.status.idle": "2024-01-14T13:32:15.236333Z",
          "shell.execute_reply.started": "2024-01-14T13:32:15.205945Z",
          "shell.execute_reply": "2024-01-14T13:32:15.23491Z"
        },
        "trusted": true,
        "id": "rFKBsXdWZsXW"
      },
      "execution_count": null,
      "outputs": []
    },
    {
      "cell_type": "code",
      "source": [
        "data.isnull().sum()"
      ],
      "metadata": {
        "execution": {
          "iopub.status.busy": "2024-01-14T13:32:32.152355Z",
          "iopub.execute_input": "2024-01-14T13:32:32.152823Z",
          "iopub.status.idle": "2024-01-14T13:32:32.85862Z",
          "shell.execute_reply.started": "2024-01-14T13:32:32.152785Z",
          "shell.execute_reply": "2024-01-14T13:32:32.857131Z"
        },
        "trusted": true,
        "id": "mQehdSumZsXW"
      },
      "execution_count": null,
      "outputs": []
    },
    {
      "cell_type": "code",
      "source": [
        "# Example imputation for numeric columns\n",
        "data['city_pop'].fillna(data['city_pop'].median(), inplace=True)\n",
        "data['unix_time'].fillna(data['unix_time'].median(), inplace=True)\n",
        "data['merch_lat'].fillna(data['merch_lat'].median(), inplace=True)\n",
        "data['merch_long'].fillna(data['merch_long'].median(), inplace=True)\n",
        "data['is_fraud'].fillna(0, inplace=True)  # Assuming is_fraud is a binary variable\n"
      ],
      "metadata": {
        "execution": {
          "iopub.status.busy": "2024-01-14T13:32:42.057265Z",
          "iopub.execute_input": "2024-01-14T13:32:42.057685Z",
          "iopub.status.idle": "2024-01-14T13:32:42.109279Z",
          "shell.execute_reply.started": "2024-01-14T13:32:42.057652Z",
          "shell.execute_reply": "2024-01-14T13:32:42.107903Z"
        },
        "trusted": true,
        "id": "-feDbR06ZsXW"
      },
      "execution_count": null,
      "outputs": []
    },
    {
      "cell_type": "code",
      "source": [
        "\n",
        "data.dropna(subset=['unix_time', 'merch_lat', 'merch_long', 'is_fraud'], inplace=True)\n"
      ],
      "metadata": {
        "execution": {
          "iopub.status.busy": "2024-01-14T13:32:48.547926Z",
          "iopub.execute_input": "2024-01-14T13:32:48.548507Z",
          "iopub.status.idle": "2024-01-14T13:32:48.659443Z",
          "shell.execute_reply.started": "2024-01-14T13:32:48.548452Z",
          "shell.execute_reply": "2024-01-14T13:32:48.658132Z"
        },
        "trusted": true,
        "id": "TjcJVzCeZsXW"
      },
      "execution_count": null,
      "outputs": []
    },
    {
      "cell_type": "code",
      "source": [
        "# Check for missing values in the entire dataset\n",
        "missing_values = data.isnull().sum()\n",
        "print(missing_values)\n"
      ],
      "metadata": {
        "execution": {
          "iopub.status.busy": "2024-01-14T13:32:55.410945Z",
          "iopub.execute_input": "2024-01-14T13:32:55.411596Z",
          "iopub.status.idle": "2024-01-14T13:32:56.112637Z",
          "shell.execute_reply.started": "2024-01-14T13:32:55.411546Z",
          "shell.execute_reply": "2024-01-14T13:32:56.111183Z"
        },
        "trusted": true,
        "id": "YFon_narZsXW"
      },
      "execution_count": null,
      "outputs": []
    },
    {
      "cell_type": "code",
      "source": [
        "data.describe()"
      ],
      "metadata": {
        "execution": {
          "iopub.status.busy": "2024-01-14T13:33:03.635771Z",
          "iopub.execute_input": "2024-01-14T13:33:03.63626Z",
          "iopub.status.idle": "2024-01-14T13:33:03.928626Z",
          "shell.execute_reply.started": "2024-01-14T13:33:03.636223Z",
          "shell.execute_reply": "2024-01-14T13:33:03.927267Z"
        },
        "trusted": true,
        "id": "eawlAcV4ZsXX"
      },
      "execution_count": null,
      "outputs": []
    },
    {
      "cell_type": "code",
      "source": [
        "X = data.drop('is_fraud', axis=1)  # Assuming 'is_fraud' is the target variable\n",
        "y = data['is_fraud']"
      ],
      "metadata": {
        "execution": {
          "iopub.status.busy": "2024-01-14T13:33:11.529896Z",
          "iopub.execute_input": "2024-01-14T13:33:11.530357Z",
          "iopub.status.idle": "2024-01-14T13:33:11.651607Z",
          "shell.execute_reply.started": "2024-01-14T13:33:11.530323Z",
          "shell.execute_reply": "2024-01-14T13:33:11.650649Z"
        },
        "trusted": true,
        "id": "xNn86N8FZsXX"
      },
      "execution_count": null,
      "outputs": []
    },
    {
      "cell_type": "code",
      "source": [
        "data['Unnamed: 0'],unnamed_name=pd.factorize(data['Unnamed: 0'])\n",
        "print(unnamed_name)"
      ],
      "metadata": {
        "execution": {
          "iopub.status.busy": "2024-01-14T13:33:18.298198Z",
          "iopub.execute_input": "2024-01-14T13:33:18.299316Z",
          "iopub.status.idle": "2024-01-14T13:33:18.379564Z",
          "shell.execute_reply.started": "2024-01-14T13:33:18.299255Z",
          "shell.execute_reply": "2024-01-14T13:33:18.377813Z"
        },
        "trusted": true,
        "id": "WERB9o7vZsXX"
      },
      "execution_count": null,
      "outputs": []
    },
    {
      "cell_type": "code",
      "source": [
        "data['cc_num'],cc_name=pd.factorize(data['cc_num'])\n",
        "print(cc_name)\n"
      ],
      "metadata": {
        "execution": {
          "iopub.status.busy": "2024-01-14T13:33:25.343613Z",
          "iopub.execute_input": "2024-01-14T13:33:25.344629Z",
          "iopub.status.idle": "2024-01-14T13:33:25.358403Z",
          "shell.execute_reply.started": "2024-01-14T13:33:25.344584Z",
          "shell.execute_reply": "2024-01-14T13:33:25.356802Z"
        },
        "trusted": true,
        "id": "uGOpB6ZZZsXX"
      },
      "execution_count": null,
      "outputs": []
    },
    {
      "cell_type": "code",
      "source": [
        "data['category'],category_name=pd.factorize(data['category'])\n",
        "print(category_name)\n"
      ],
      "metadata": {
        "execution": {
          "iopub.status.busy": "2024-01-14T13:33:32.734905Z",
          "iopub.execute_input": "2024-01-14T13:33:32.735298Z",
          "iopub.status.idle": "2024-01-14T13:33:32.807573Z",
          "shell.execute_reply.started": "2024-01-14T13:33:32.735266Z",
          "shell.execute_reply": "2024-01-14T13:33:32.806321Z"
        },
        "trusted": true,
        "id": "2Duaq_fGZsXY"
      },
      "execution_count": null,
      "outputs": []
    },
    {
      "cell_type": "code",
      "source": [
        "data['trans_date_trans_time'],time_name=pd.factorize(data['trans_date_trans_time'])\n",
        "print(time_name)\n"
      ],
      "metadata": {
        "execution": {
          "iopub.status.busy": "2024-01-14T13:33:38.8527Z",
          "iopub.execute_input": "2024-01-14T13:33:38.853199Z",
          "iopub.status.idle": "2024-01-14T13:33:39.022154Z",
          "shell.execute_reply.started": "2024-01-14T13:33:38.85316Z",
          "shell.execute_reply": "2024-01-14T13:33:39.02072Z"
        },
        "trusted": true,
        "id": "987wuUanZsXY"
      },
      "execution_count": null,
      "outputs": []
    },
    {
      "cell_type": "code",
      "source": [
        "data['amt'],amt_name=pd.factorize(data['amt'])\n",
        "print(amt_name)"
      ],
      "metadata": {
        "execution": {
          "iopub.status.busy": "2024-01-14T13:33:47.362165Z",
          "iopub.execute_input": "2024-01-14T13:33:47.362588Z",
          "iopub.status.idle": "2024-01-14T13:33:47.388145Z",
          "shell.execute_reply.started": "2024-01-14T13:33:47.362554Z",
          "shell.execute_reply": "2024-01-14T13:33:47.387026Z"
        },
        "trusted": true,
        "id": "38SVWPW7ZsXY"
      },
      "execution_count": null,
      "outputs": []
    },
    {
      "cell_type": "code",
      "source": [
        "data['merchant'],merchant_name=pd.factorize(data['merchant'])\n",
        "print(merchant_name)"
      ],
      "metadata": {
        "execution": {
          "iopub.status.busy": "2024-01-14T13:33:53.262041Z",
          "iopub.execute_input": "2024-01-14T13:33:53.262491Z",
          "iopub.status.idle": "2024-01-14T13:33:53.347274Z",
          "shell.execute_reply.started": "2024-01-14T13:33:53.262457Z",
          "shell.execute_reply": "2024-01-14T13:33:53.345946Z"
        },
        "trusted": true,
        "id": "Zb-hEH_xZsXZ"
      },
      "execution_count": null,
      "outputs": []
    },
    {
      "cell_type": "code",
      "source": [
        "data['zip'],zip_name=pd.factorize(data['zip'])\n",
        "print(zip_name)"
      ],
      "metadata": {
        "execution": {
          "iopub.status.busy": "2024-01-14T13:33:59.71319Z",
          "iopub.execute_input": "2024-01-14T13:33:59.713611Z",
          "iopub.status.idle": "2024-01-14T13:33:59.729217Z",
          "shell.execute_reply.started": "2024-01-14T13:33:59.713579Z",
          "shell.execute_reply": "2024-01-14T13:33:59.727074Z"
        },
        "trusted": true,
        "id": "301Np8F1ZsXZ"
      },
      "execution_count": null,
      "outputs": []
    },
    {
      "cell_type": "code",
      "source": [
        "data['lat'],lat_name=pd.factorize(data['lat'])\n",
        "print(lat_name)"
      ],
      "metadata": {
        "execution": {
          "iopub.status.busy": "2024-01-14T13:34:06.820486Z",
          "iopub.execute_input": "2024-01-14T13:34:06.820899Z",
          "iopub.status.idle": "2024-01-14T13:34:06.841715Z",
          "shell.execute_reply.started": "2024-01-14T13:34:06.820866Z",
          "shell.execute_reply": "2024-01-14T13:34:06.840914Z"
        },
        "trusted": true,
        "id": "2A0SXlNhZsXZ"
      },
      "execution_count": null,
      "outputs": []
    },
    {
      "cell_type": "code",
      "source": [
        "data['long'],long_name=pd.factorize(data['long'])\n",
        "print(long_name)"
      ],
      "metadata": {
        "execution": {
          "iopub.status.busy": "2024-01-14T13:34:14.13751Z",
          "iopub.execute_input": "2024-01-14T13:34:14.13803Z",
          "iopub.status.idle": "2024-01-14T13:34:14.156984Z",
          "shell.execute_reply.started": "2024-01-14T13:34:14.137993Z",
          "shell.execute_reply": "2024-01-14T13:34:14.155513Z"
        },
        "trusted": true,
        "id": "jijwoN-4ZsXZ"
      },
      "execution_count": null,
      "outputs": []
    },
    {
      "cell_type": "code",
      "source": [
        "data['city_pop'],city_name=pd.factorize(data['city_pop'])\n",
        "print(city_name)"
      ],
      "metadata": {
        "execution": {
          "iopub.status.busy": "2024-01-14T13:34:20.502876Z",
          "iopub.execute_input": "2024-01-14T13:34:20.503368Z",
          "iopub.status.idle": "2024-01-14T13:34:20.524537Z",
          "shell.execute_reply.started": "2024-01-14T13:34:20.503332Z",
          "shell.execute_reply": "2024-01-14T13:34:20.522946Z"
        },
        "trusted": true,
        "id": "2fGbcZFDZsXZ"
      },
      "execution_count": null,
      "outputs": []
    },
    {
      "cell_type": "code",
      "source": [
        "data['unix_time'],unix_name=pd.factorize(data['unix_time'])\n",
        "print(unix_name)"
      ],
      "metadata": {
        "execution": {
          "iopub.status.busy": "2024-01-14T13:34:28.70284Z",
          "iopub.execute_input": "2024-01-14T13:34:28.703336Z",
          "iopub.status.idle": "2024-01-14T13:34:28.780902Z",
          "shell.execute_reply.started": "2024-01-14T13:34:28.7033Z",
          "shell.execute_reply": "2024-01-14T13:34:28.779704Z"
        },
        "trusted": true,
        "id": "bbsetvt3ZsXZ"
      },
      "execution_count": null,
      "outputs": []
    },
    {
      "cell_type": "code",
      "source": [
        "data['merch_lat'],merch_name=pd.factorize(data['merch_lat'])\n",
        "print(merch_name)"
      ],
      "metadata": {
        "execution": {
          "iopub.status.busy": "2024-01-14T13:34:37.210561Z",
          "iopub.execute_input": "2024-01-14T13:34:37.211058Z",
          "iopub.status.idle": "2024-01-14T13:34:37.279334Z",
          "shell.execute_reply.started": "2024-01-14T13:34:37.211021Z",
          "shell.execute_reply": "2024-01-14T13:34:37.278055Z"
        },
        "trusted": true,
        "id": "HSQT92ruZsXZ"
      },
      "execution_count": null,
      "outputs": []
    },
    {
      "cell_type": "code",
      "source": [
        "data['merch_long'],long_name=pd.factorize(data['merch_long'])\n",
        "print(long_name)"
      ],
      "metadata": {
        "execution": {
          "iopub.status.busy": "2024-01-14T13:34:44.102415Z",
          "iopub.execute_input": "2024-01-14T13:34:44.10293Z",
          "iopub.status.idle": "2024-01-14T13:34:44.179205Z",
          "shell.execute_reply.started": "2024-01-14T13:34:44.102889Z",
          "shell.execute_reply": "2024-01-14T13:34:44.178016Z"
        },
        "trusted": true,
        "id": "tjGIx_0gZsXa"
      },
      "execution_count": null,
      "outputs": []
    },
    {
      "cell_type": "code",
      "source": [
        "data['is_fraud'],fraud_name=pd.factorize(data['is_fraud'])\n",
        "print(fraud_name)"
      ],
      "metadata": {
        "execution": {
          "iopub.status.busy": "2024-01-14T13:34:50.696984Z",
          "iopub.execute_input": "2024-01-14T13:34:50.697407Z",
          "iopub.status.idle": "2024-01-14T13:34:50.709693Z",
          "shell.execute_reply.started": "2024-01-14T13:34:50.697375Z",
          "shell.execute_reply": "2024-01-14T13:34:50.708412Z"
        },
        "trusted": true,
        "id": "8jSnytcgZsXa"
      },
      "execution_count": null,
      "outputs": []
    },
    {
      "cell_type": "code",
      "source": [
        "data['first'],first_name=pd.factorize(data['first'])\n",
        "print(first_name)"
      ],
      "metadata": {
        "execution": {
          "iopub.status.busy": "2024-01-14T13:34:58.470033Z",
          "iopub.execute_input": "2024-01-14T13:34:58.470517Z",
          "iopub.status.idle": "2024-01-14T13:34:58.545868Z",
          "shell.execute_reply.started": "2024-01-14T13:34:58.470481Z",
          "shell.execute_reply": "2024-01-14T13:34:58.544619Z"
        },
        "trusted": true,
        "id": "9FzWW9QNZsXa"
      },
      "execution_count": null,
      "outputs": []
    },
    {
      "cell_type": "code",
      "source": [
        "data['last'],last_name=pd.factorize(data['last'])\n",
        "print(last_name)"
      ],
      "metadata": {
        "execution": {
          "iopub.status.busy": "2024-01-14T13:35:04.533022Z",
          "iopub.execute_input": "2024-01-14T13:35:04.533508Z",
          "iopub.status.idle": "2024-01-14T13:35:04.604153Z",
          "shell.execute_reply.started": "2024-01-14T13:35:04.533469Z",
          "shell.execute_reply": "2024-01-14T13:35:04.60294Z"
        },
        "trusted": true,
        "id": "kRRkthZtZsXa"
      },
      "execution_count": null,
      "outputs": []
    },
    {
      "cell_type": "code",
      "source": [
        "data['street'],street_name=pd.factorize(data['street'])\n",
        "print(street_name)"
      ],
      "metadata": {
        "execution": {
          "iopub.status.busy": "2024-01-14T13:35:10.989485Z",
          "iopub.execute_input": "2024-01-14T13:35:10.991256Z",
          "iopub.status.idle": "2024-01-14T13:35:11.069331Z",
          "shell.execute_reply.started": "2024-01-14T13:35:10.991186Z",
          "shell.execute_reply": "2024-01-14T13:35:11.067941Z"
        },
        "trusted": true,
        "id": "L_HcN3d-ZsXa"
      },
      "execution_count": null,
      "outputs": []
    },
    {
      "cell_type": "code",
      "source": [
        "data['job'],job_name=pd.factorize(data['job'])\n",
        "print(job_name)"
      ],
      "metadata": {
        "execution": {
          "iopub.status.busy": "2024-01-14T13:35:17.757192Z",
          "iopub.execute_input": "2024-01-14T13:35:17.757638Z",
          "iopub.status.idle": "2024-01-14T13:35:17.835877Z",
          "shell.execute_reply.started": "2024-01-14T13:35:17.757605Z",
          "shell.execute_reply": "2024-01-14T13:35:17.834743Z"
        },
        "trusted": true,
        "id": "5sbLkZbvZsXa"
      },
      "execution_count": null,
      "outputs": []
    },
    {
      "cell_type": "code",
      "source": [
        "data['dob'],dob_name=pd.factorize(data['dob'])\n",
        "print(dob_name)"
      ],
      "metadata": {
        "execution": {
          "iopub.status.busy": "2024-01-14T13:35:23.582327Z",
          "iopub.execute_input": "2024-01-14T13:35:23.583045Z",
          "iopub.status.idle": "2024-01-14T13:35:23.648693Z",
          "shell.execute_reply.started": "2024-01-14T13:35:23.583009Z",
          "shell.execute_reply": "2024-01-14T13:35:23.647606Z"
        },
        "trusted": true,
        "id": "JLAIusEEZsXb"
      },
      "execution_count": null,
      "outputs": []
    },
    {
      "cell_type": "code",
      "source": [
        "data['trans_num'],trans_name=pd.factorize(data['trans_num'])\n",
        "print(trans_name)"
      ],
      "metadata": {
        "execution": {
          "iopub.status.busy": "2024-01-14T13:35:31.977406Z",
          "iopub.execute_input": "2024-01-14T13:35:31.977841Z",
          "iopub.status.idle": "2024-01-14T13:35:32.171165Z",
          "shell.execute_reply.started": "2024-01-14T13:35:31.977808Z",
          "shell.execute_reply": "2024-01-14T13:35:32.169667Z"
        },
        "trusted": true,
        "id": "f8fcvYoUZsXb"
      },
      "execution_count": null,
      "outputs": []
    },
    {
      "cell_type": "code",
      "source": [
        "data['gender'],gender_name=pd.factorize(data['gender'])\n",
        "print(gender_name)"
      ],
      "metadata": {
        "execution": {
          "iopub.status.busy": "2024-01-14T13:35:47.572221Z",
          "iopub.execute_input": "2024-01-14T13:35:47.572634Z",
          "iopub.status.idle": "2024-01-14T13:35:47.627957Z",
          "shell.execute_reply.started": "2024-01-14T13:35:47.572603Z",
          "shell.execute_reply": "2024-01-14T13:35:47.626763Z"
        },
        "trusted": true,
        "id": "kh1hLNSXZsXb"
      },
      "execution_count": null,
      "outputs": []
    },
    {
      "cell_type": "code",
      "source": [
        "data['city'],city_name=pd.factorize(data['city'])\n",
        "print(city_name)"
      ],
      "metadata": {
        "execution": {
          "iopub.status.busy": "2024-01-14T13:35:53.992224Z",
          "iopub.execute_input": "2024-01-14T13:35:53.9927Z",
          "iopub.status.idle": "2024-01-14T13:35:54.065322Z",
          "shell.execute_reply.started": "2024-01-14T13:35:53.992666Z",
          "shell.execute_reply": "2024-01-14T13:35:54.063909Z"
        },
        "trusted": true,
        "id": "uGI6-GZKZsXb"
      },
      "execution_count": null,
      "outputs": []
    },
    {
      "cell_type": "code",
      "source": [
        "data['state'],state_name=pd.factorize(data['state'])\n",
        "print(state_name)"
      ],
      "metadata": {
        "execution": {
          "iopub.status.busy": "2024-01-14T13:36:02.605177Z",
          "iopub.execute_input": "2024-01-14T13:36:02.60556Z",
          "iopub.status.idle": "2024-01-14T13:36:02.708177Z",
          "shell.execute_reply.started": "2024-01-14T13:36:02.605531Z",
          "shell.execute_reply": "2024-01-14T13:36:02.70695Z"
        },
        "trusted": true,
        "id": "EBZp0HTCZsXb"
      },
      "execution_count": null,
      "outputs": []
    },
    {
      "cell_type": "code",
      "source": [
        "\n",
        "x=data.iloc[:,0:-1]\n",
        "y=data.iloc[:,-1]"
      ],
      "metadata": {
        "execution": {
          "iopub.status.busy": "2024-01-14T13:36:09.82739Z",
          "iopub.execute_input": "2024-01-14T13:36:09.827857Z",
          "iopub.status.idle": "2024-01-14T13:36:09.918521Z",
          "shell.execute_reply.started": "2024-01-14T13:36:09.827801Z",
          "shell.execute_reply": "2024-01-14T13:36:09.917378Z"
        },
        "trusted": true,
        "id": "JtuI5CvzZsXe"
      },
      "execution_count": null,
      "outputs": []
    },
    {
      "cell_type": "code",
      "source": [
        "x_train,x_test,y_train,y_test=train_test_split(x,y,test_size=0.3,random_state=0)\n"
      ],
      "metadata": {
        "execution": {
          "iopub.status.busy": "2024-01-14T13:36:20.447257Z",
          "iopub.execute_input": "2024-01-14T13:36:20.447717Z",
          "iopub.status.idle": "2024-01-14T13:36:20.85078Z",
          "shell.execute_reply.started": "2024-01-14T13:36:20.447683Z",
          "shell.execute_reply": "2024-01-14T13:36:20.849431Z"
        },
        "trusted": true,
        "id": "V7--C5JfZsXe"
      },
      "execution_count": null,
      "outputs": []
    },
    {
      "cell_type": "code",
      "source": [
        "feature_names = x.columns"
      ],
      "metadata": {
        "execution": {
          "iopub.status.busy": "2024-01-14T13:36:29.157373Z",
          "iopub.execute_input": "2024-01-14T13:36:29.15784Z",
          "iopub.status.idle": "2024-01-14T13:36:29.164197Z",
          "shell.execute_reply.started": "2024-01-14T13:36:29.157806Z",
          "shell.execute_reply": "2024-01-14T13:36:29.162656Z"
        },
        "trusted": true,
        "id": "o94BjsdiZsXe"
      },
      "execution_count": null,
      "outputs": []
    },
    {
      "cell_type": "code",
      "source": [
        "from sklearn import tree, metrics\n",
        "dtree=tree.DecisionTreeClassifier(criterion='gini')#entrophy or gini\n",
        "dtree.fit(x_train,y_train)"
      ],
      "metadata": {
        "execution": {
          "iopub.status.busy": "2024-01-14T13:36:39.495343Z",
          "iopub.execute_input": "2024-01-14T13:36:39.495805Z",
          "iopub.status.idle": "2024-01-14T13:37:01.927715Z",
          "shell.execute_reply.started": "2024-01-14T13:36:39.495771Z",
          "shell.execute_reply": "2024-01-14T13:37:01.926732Z"
        },
        "trusted": true,
        "id": "gGQKzSEpZsXe"
      },
      "execution_count": null,
      "outputs": []
    },
    {
      "cell_type": "code",
      "source": [
        "y_pred = dtree.predict(x_test)"
      ],
      "metadata": {
        "execution": {
          "iopub.status.busy": "2024-01-14T13:37:09.969345Z",
          "iopub.execute_input": "2024-01-14T13:37:09.969831Z",
          "iopub.status.idle": "2024-01-14T13:37:10.02844Z",
          "shell.execute_reply.started": "2024-01-14T13:37:09.969795Z",
          "shell.execute_reply": "2024-01-14T13:37:10.027029Z"
        },
        "trusted": true,
        "id": "vLTuKEadZsXe"
      },
      "execution_count": null,
      "outputs": []
    },
    {
      "cell_type": "code",
      "source": [
        "accuracy = accuracy_score(y_test, y_pred)"
      ],
      "metadata": {
        "execution": {
          "iopub.status.busy": "2024-01-14T13:37:11.198965Z",
          "iopub.execute_input": "2024-01-14T13:37:11.199424Z",
          "iopub.status.idle": "2024-01-14T13:37:11.221555Z",
          "shell.execute_reply.started": "2024-01-14T13:37:11.199387Z",
          "shell.execute_reply": "2024-01-14T13:37:11.220198Z"
        },
        "trusted": true,
        "id": "5bE-v8CGZsXf"
      },
      "execution_count": null,
      "outputs": []
    },
    {
      "cell_type": "code",
      "source": [
        "classification_rep = classification_report(y_test, y_pred)"
      ],
      "metadata": {
        "execution": {
          "iopub.status.busy": "2024-01-14T13:37:12.34749Z",
          "iopub.execute_input": "2024-01-14T13:37:12.348111Z",
          "iopub.status.idle": "2024-01-14T13:37:12.598368Z",
          "shell.execute_reply.started": "2024-01-14T13:37:12.348069Z",
          "shell.execute_reply": "2024-01-14T13:37:12.597072Z"
        },
        "trusted": true,
        "id": "fGUdIraxZsXf"
      },
      "execution_count": null,
      "outputs": []
    },
    {
      "cell_type": "code",
      "source": [
        "print(\"Decision Tree Model:\")\n",
        "print(\"Accuracy:\", accuracy)"
      ],
      "metadata": {
        "execution": {
          "iopub.status.busy": "2024-01-14T13:37:23.70226Z",
          "iopub.execute_input": "2024-01-14T13:37:23.703378Z",
          "iopub.status.idle": "2024-01-14T13:37:23.710472Z",
          "shell.execute_reply.started": "2024-01-14T13:37:23.703329Z",
          "shell.execute_reply": "2024-01-14T13:37:23.70902Z"
        },
        "trusted": true,
        "id": "y77xz-SyZsXf"
      },
      "execution_count": null,
      "outputs": []
    },
    {
      "cell_type": "code",
      "source": [
        "print(\"Classification Report:\")\n",
        "print(classification_rep)"
      ],
      "metadata": {
        "execution": {
          "iopub.status.busy": "2024-01-14T13:37:30.238025Z",
          "iopub.execute_input": "2024-01-14T13:37:30.238501Z",
          "iopub.status.idle": "2024-01-14T13:37:30.244936Z",
          "shell.execute_reply.started": "2024-01-14T13:37:30.238467Z",
          "shell.execute_reply": "2024-01-14T13:37:30.243739Z"
        },
        "trusted": true,
        "id": "k2CwmvyjZsXf"
      },
      "execution_count": null,
      "outputs": []
    },
    {
      "cell_type": "code",
      "source": [],
      "metadata": {
        "id": "CJAShiB4ZsXf"
      },
      "execution_count": null,
      "outputs": []
    }
  ]
}